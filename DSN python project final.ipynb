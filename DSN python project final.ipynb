{
 "cells": [
  {
   "cell_type": "markdown",
   "metadata": {},
   "source": [
    "Write a program to allow input from customer for product,price of product,qty of product.calculate total price of qty and price. User should check in max of 5 goods. Give 10% discount of items greater than 10000 and 5% discount for goods less than 10000"
   ]
  },
  {
   "cell_type": "code",
   "execution_count": 42,
   "metadata": {},
   "outputs": [
    {
     "name": "stdout",
     "output_type": "stream",
     "text": [
      "Good day.Please enter number of items you wish to buy: 6\n",
      "You can only select maximum of 5 item please\n",
      "How many items are you checking out?  4\n",
      "Supply item 1\n",
      "Bread\n",
      "Price:500\n",
      "Quantity:20\n",
      "{'Bread': (500, 20, 10000)}\n",
      "Total amount of 20 Bread at the rate of 500 is 10000\n",
      "Supply item 2\n",
      "Sausage\n",
      "Price:200\n",
      "Quantity:7\n",
      "{'Sausage': (200, 7, 1400)}\n",
      "Total amount of 7 Sausage at the rate of 200 is 1400\n",
      "Supply item 3\n",
      "Butter\n",
      "Price:450\n",
      "Quantity:30\n",
      "{'Butter': (450, 30, 13500)}\n",
      "Total amount of 30 Butter at the rate of 450 is 13500\n",
      "Supply item 4\n",
      "Peanut\n",
      "Price:300\n",
      "Quantity:6\n",
      "{'Peanut': (300, 6, 1800)}\n",
      "Total amount of 6 Peanut at the rate of 300 is 1800\n"
     ]
    }
   ],
   "source": [
    "item = int(input(\"Good day.Please enter number of items you wish to buy: \"))\n",
    "if item < 5:\n",
    "    print(\"Good.You can proceed.\")\n",
    "else:\n",
    "    print(\"You can only select maximum of 5 item please\")\n",
    "    \n",
    "def price_of_item(*arg):\n",
    "    dict = {}\n",
    "    dict[item] = (price,qty,total)\n",
    "    print(dict)\n",
    "n = int(input(\"How many items are you checking out?  \"))  \n",
    "for i in range(n):  \n",
    "    print(\"Supply item\",i+1)\n",
    "    item = input()\n",
    "    price = int(input(\"Price:\"))\n",
    "    qty = int(input(\"Quantity:\"))\n",
    "    total = qty*price\n",
    "    price_of_item(item, price)\n",
    "    print(\"Total amount of {} {} at the rate of {} is\"\n",
    "          .format(qty,item,price),total)\n",
    "   "
   ]
  },
  {
   "cell_type": "code",
   "execution_count": 46,
   "metadata": {},
   "outputs": [
    {
     "name": "stdout",
     "output_type": "stream",
     "text": [
      "You are paying 1710.0 with discount of 5%\n"
     ]
    }
   ],
   "source": [
    "if total > 10000:\n",
    "    print(\"You are paying {} with discount of 10%\"\n",
    "          .format(total-(0.1*total)))\n",
    "else:\n",
    "    print(\"You are paying {} with discount of 5%\"\n",
    "          .format(total-(0.05*total)))"
   ]
  },
  {
   "cell_type": "code",
   "execution_count": null,
   "metadata": {},
   "outputs": [],
   "source": []
  }
 ],
 "metadata": {
  "kernelspec": {
   "display_name": "Python 3",
   "language": "python",
   "name": "python3"
  },
  "language_info": {
   "codemirror_mode": {
    "name": "ipython",
    "version": 3
   },
   "file_extension": ".py",
   "mimetype": "text/x-python",
   "name": "python",
   "nbconvert_exporter": "python",
   "pygments_lexer": "ipython3",
   "version": "3.7.2"
  }
 },
 "nbformat": 4,
 "nbformat_minor": 2
}
